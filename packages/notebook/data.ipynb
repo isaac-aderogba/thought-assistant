{
 "cells": [
  {
   "cell_type": "markdown",
   "source": "Complementary notebook for creating a dataset. Refer to the full paper for a complete walkthrough.",
   "metadata": {
    "cell_id": "114759f702154fbbb8327a4e557dd576",
    "tags": [],
    "deepnote_cell_type": "markdown",
    "deepnote_cell_height": 52.390625
   }
  },
  {
   "cell_type": "code",
   "metadata": {
    "cell_id": "91d0d8e73a87497a9b1b07412698193a",
    "tags": [],
    "deepnote_to_be_reexecuted": false,
    "source_hash": "5a834a00",
    "execution_start": 1650522558745,
    "execution_millis": 17655,
    "output_cleared": true,
    "owner_user_id": "b8b7d390-3d6b-4230-aef2-2c1c0bc7f6aa",
    "deepnote_cell_type": "code",
    "deepnote_cell_height": 81
   },
   "source": "!python -m spacy download en_core_web_sm",
   "execution_count": null,
   "outputs": []
  },
  {
   "cell_type": "code",
   "metadata": {
    "tags": [],
    "cell_id": "f39de684-109b-4855-9a00-a4e8ccef6c33",
    "deepnote_to_be_reexecuted": false,
    "source_hash": "7ea75d34",
    "execution_start": 1650522585423,
    "execution_millis": 5175,
    "output_cleared": true,
    "deepnote_cell_type": "code",
    "deepnote_cell_height": 243
   },
   "source": "import os \nimport spacy\nimport requests\nimport re\nimport numpy as np\nimport pandas as pd\nimport matplotlib.pyplot as plt\nimport json\n\nfrom ratelimiter import RateLimiter",
   "execution_count": null,
   "outputs": []
  },
  {
   "cell_type": "code",
   "metadata": {
    "cell_id": "da5b9460bd424fb6b2194caf0aac4444",
    "tags": [],
    "deepnote_to_be_reexecuted": false,
    "source_hash": "a19abcd7",
    "execution_start": 1650524015132,
    "execution_millis": 0,
    "deepnote_cell_type": "code",
    "deepnote_cell_height": 927
   },
   "source": "# load the environment variables into global variables\nINSIGHTS_ID = os.environ[\"INSIGHTS_ID\"]\nNOTION_KEY = os.environ[\"NOTION_KEY\"]\n\n# classes for interacting with notion API\nclass Client:\n    def __init__(self, key):\n        self.request = requests.Session()\n        self.request.headers.update(\n            {\n                \"Authorization\": f\"Bearer {key}\",\n                \"Notion-Version\": \"2021-08-16\",\n                \"Content-Type\": \"application/json\",\n            }\n        )\n\n        self.databases = Databases(self)\n        self.pages = Pages(self)\n\n\nclass Databases:\n    def __init__(self, client):\n        self.client = client\n\n    def query(self, database_id, cursor=None):\n        url = f\"https://api.notion.com/v1/databases/{database_id}/query\"\n\n        if cursor:\n            response = self.client.request.post(url, json={ \"start_cursor\": cursor })\n        else:\n            response = self.client.request.post(url)\n            \n        return response.json()\n\n\nclass Pages:\n    def __init__(self, client):\n        self.client = client\n\n    def query_content(self, block_id, cursor=None):\n        url = f\"https://api.notion.com/v1/blocks/{block_id}/children?page_size=100\"\n\n        if cursor:\n            url = f\"{url}&start_cursor={cursor}\"\n\n        response = self.client.request.get(url)\n        return response.json()\n",
   "outputs": [],
   "execution_count": null
  },
  {
   "cell_type": "code",
   "source": "# fetch pages\nclient = Client(NOTION_KEY)\n\n# fetch all pages\ndef fetch_all_pages(pages=[], cursor=None):\n    print(\"fetching...\", len(pages), cursor)\n    result = client.databases.query(INSIGHTS_ID, cursor)\n    \n    if result[\"object\"] == \"error\":\n        print(result)\n        return pages\n\n    for page in result[\"results\"]:\n        pages.append(page)\n\n    if result[\"next_cursor\"]:\n        return fetch_all_pages(pages, result[\"next_cursor\"])\n\n    return pages\n\npages = fetch_all_pages()",
   "metadata": {
    "cell_id": "980dcecf73204f11a2d3903d9ab585aa",
    "tags": [],
    "deepnote_to_be_reexecuted": false,
    "source_hash": "d93d8647",
    "execution_start": 1650524017433,
    "execution_millis": 29056,
    "deepnote_cell_type": "code",
    "deepnote_cell_height": 648.953125,
    "deepnote_output_heights": [
     null,
     424.296875
    ]
   },
   "outputs": [
    {
     "name": "stdout",
     "text": "fetching... 0 None\nfetching... 100 e37e85c9-c6e9-4ae5-89d6-a7626801aef5\nfetching... 200 b024f2c9-61cc-474f-9880-77190482ec1f\nfetching... 300 da25ca6f-c7f9-4e81-81e3-b6c9eed074b0\nfetching... 400 cda4e2e0-7c71-4141-b74a-9c42f2d5c607\nfetching... 500 964890a5-08ba-4414-b051-34a9fa74fd48\nfetching... 600 8a97037b-7686-42d8-8be3-410c25e883e7\nfetching... 700 f65df2d0-c210-4b82-a76d-7e51015716ed\nfetching... 800 cf2bbd53-20dd-42b5-ab19-273f838d820d\nfetching... 900 b9bfb760-8952-4775-ba11-d180f34f85d9\n",
     "output_type": "stream"
    }
   ],
   "execution_count": null
  },
  {
   "cell_type": "code",
   "source": "# fetch page content\n@RateLimiter(max_calls=3, period=1)\ndef query_content_recursively(block_id, blocks, cursor=None):\n    response = client.pages.query_content(block_id, cursor)\n\n    for block in response[\"results\"]:\n        if block[\"has_children\"]:\n            blocks.append([block, query_content_recursively(block[\"id\"], [])])\n        else:\n            blocks.append(block)\n\n    if response[\"next_cursor\"]:\n        return query_content_recursively(block_id, blocks, response[\"next_cursor\"])\n\n    return blocks\n\n\n# fetch nested content\nitems = []\nfor page in pages:\n    items.append({\"page\": page, \"blocks\": query_content_recursively(page[\"id\"], [])})\n",
   "metadata": {
    "cell_id": "72e8c35542604adbaffb8faf0e3dd9bd",
    "tags": [],
    "deepnote_to_be_reexecuted": false,
    "source_hash": "2dee3ed4",
    "execution_start": 1650524115961,
    "execution_millis": 2331247,
    "deepnote_cell_type": "code",
    "deepnote_cell_height": 459
   },
   "outputs": [],
   "execution_count": null
  },
  {
   "cell_type": "code",
   "metadata": {
    "cell_id": "4cc465329f584d5ab3db6df3ea54b1e3",
    "tags": [],
    "deepnote_to_be_reexecuted": false,
    "source_hash": "d652da63",
    "execution_start": 1650526583183,
    "execution_millis": 3,
    "deepnote_cell_type": "code",
    "deepnote_cell_height": 693
   },
   "source": "# extract data from page content\ndef extract_title(page):\n    return [t[\"plain_text\"] for t in page[\"properties\"][\"Title\"][\"title\"]]\n\ndef extract_text(blocks, output):\n    for block in blocks:\n        if isinstance(block, list):\n            extract_text(block, output)\n        elif block[\"type\"] in [\"paragraph\", \"quote\"]:\n            phrases = []\n            for text in block[block[\"type\"]][\"text\"]:\n                phrases.append(text[\"plain_text\"])\n            output.append(\"\".join(phrases))\n\n    return output\n\ndef extract_data(item):\n    title = \"\".join(extract_title(item[\"page\"])) + \".\"\n    blocks = extract_text(item[\"blocks\"], [])\n\n    return {\n        \"title\": title,\n        \"blocks\": blocks\n    }\n\ndataset = []\nfor item in items:\n    title = \"\".join(extract_title(item[\"page\"])) + \".\"\n    blocks = extract_text(item[\"blocks\"], [])\n\n    dataset.append(title)\n    for block in blocks:\n        if block.endswith(('.', '!', '?')):\n            dataset.append(block)\n",
   "outputs": [],
   "execution_count": null
  },
  {
   "cell_type": "code",
   "metadata": {
    "cell_id": "4b53b768e5c84fb2a8846acbd5a1ec1d",
    "tags": [],
    "deepnote_to_be_reexecuted": false,
    "source_hash": "785e569e",
    "execution_start": 1650526620365,
    "execution_millis": 10,
    "deepnote_cell_type": "code",
    "deepnote_cell_height": 290.953125,
    "deepnote_output_heights": [
     193.953125
    ]
   },
   "source": "dataset[:10]",
   "outputs": [
    {
     "output_type": "execute_result",
     "execution_count": 45,
     "data": {
      "text/plain": "['Interactive suggestion systems should increase writers’ feeling of ownership.',\n 'In this case, the designer could consider devising ways to keep the fraction of text written by writers to text written by the Language Model relatively high.',\n 'Additionally, this can act as a feedback signal on whether to increase suggestion velocity or not. If the user has accepted too many suggestions, then perhaps the system should factor that in and not make any more suggestions until a threshold has been crossed. Otherwise, we may as well have the entire passage generated by a language model.',\n 'Interactive suggestion systems should increase writers’ productivity.',\n 'Similar to Ideoscope - Paul Bricman and Visualizing Item and Mnemonic Metrics Over Time, we should gather concrete metrics on how Interactive Suggestion Systemss help increase writer’s productivity. This can also include linguistic metrics specific to the collaboration process such as frequency of errors and vocabulary diversity.',\n 'Interactive suggestion systems should feel more like valuable suggestions rather than accurate predictions.',\n 'We found that phrases are interpreted as suggestions of what to say and how to say it more than the single word displays, which were viewed as predictions of what will be typed. Most participants commented that the system influenced the content of what they were writing.',\n 'This expresses the subtle distinction that was observed in AI as a creative collaborator. AI as a collaborator positions the human and AI as two independent, autonomous agents at equal levels of engagement. Instead of a typo-correction service or predictive-text service, what you’re really getting are creative suggestions that can take the body of the text in an entirely different direction.',\n 'The design challege is thus how a phrase suggestion service like Smart Compose can make valuable suggestions rather than just accurate predictions.',\n 'Attention-based models suffer from poor latency due to keeping track of self-attention for all layers of the model.']"
     },
     "metadata": {}
    }
   ],
   "execution_count": null
  },
  {
   "cell_type": "code",
   "source": "# todo, should add typo tolerance",
   "metadata": {
    "cell_id": "b6f3d33ff64a44719269dffb71de69f7",
    "tags": [],
    "deepnote_to_be_reexecuted": false,
    "source_hash": "41598026",
    "execution_start": 1650526665072,
    "execution_millis": 1,
    "deepnote_cell_type": "code",
    "deepnote_cell_height": 81
   },
   "outputs": [],
   "execution_count": null
  },
  {
   "cell_type": "code",
   "metadata": {
    "cell_id": "24df104b8dab44e48284bd9ec595072d",
    "tags": [],
    "deepnote_to_be_reexecuted": false,
    "source_hash": "e54fd0c6",
    "execution_start": 1650526665689,
    "execution_millis": 10,
    "deepnote_cell_type": "code",
    "deepnote_cell_height": 315
   },
   "source": "def normalize_text(text):\n    # remove Jarivs quotes\n    text = text.replace(\"Jarvis:\", \"\")\n\n    # create a space between the word and the punctuation following it\n    text = re.sub(r'([.,!?]+)', r\" \\1 \", text)\n\n    # replacing everything with space except (a-z, A-Z, \".\", \"?\", \"!\", \",\", \"'\")\n    text = re.sub(r\"[^a-zA-Z?,.!'’]+\", \" \", text)\n\n    # Compact spaces\n    text = re.sub(r'[\" \"]+', \" \", text)\n    text = text.strip()\n    return text",
   "outputs": [],
   "execution_count": null
  },
  {
   "cell_type": "code",
   "metadata": {
    "cell_id": "dd178874a8bc409594c30395e7168c63",
    "tags": [],
    "deepnote_to_be_reexecuted": false,
    "source_hash": "bf6a6b1d",
    "execution_start": 1650526669183,
    "execution_millis": 41,
    "deepnote_cell_type": "code",
    "deepnote_cell_height": 135
   },
   "source": "normalized_dataset = []\n\nfor data in dataset:\n    normalized_dataset.append(normalize_text(data))",
   "outputs": [],
   "execution_count": null
  },
  {
   "cell_type": "code",
   "metadata": {
    "cell_id": "6d3727e2a8b345bda487a001689b0754",
    "tags": [],
    "deepnote_to_be_reexecuted": false,
    "source_hash": "811af54f",
    "execution_start": 1650526676499,
    "execution_millis": 1,
    "deepnote_cell_type": "code",
    "deepnote_cell_height": 290.953125,
    "deepnote_output_heights": [
     193.953125
    ]
   },
   "source": "normalized_dataset[:10]",
   "outputs": [
    {
     "output_type": "execute_result",
     "execution_count": 49,
     "data": {
      "text/plain": "['Interactive suggestion systems should increase writers’ feeling of ownership .',\n 'In this case , the designer could consider devising ways to keep the fraction of text written by writers to text written by the Language Model relatively high .',\n 'Additionally , this can act as a feedback signal on whether to increase suggestion velocity or not . If the user has accepted too many suggestions , then perhaps the system should factor that in and not make any more suggestions until a threshold has been crossed . Otherwise , we may as well have the entire passage generated by a language model .',\n 'Interactive suggestion systems should increase writers’ productivity .',\n 'Similar to Ideoscope Paul Bricman and Visualizing Item and Mnemonic Metrics Over Time , we should gather concrete metrics on how Interactive Suggestion Systemss help increase writer’s productivity . This can also include linguistic metrics specific to the collaboration process such as frequency of errors and vocabulary diversity .',\n 'Interactive suggestion systems should feel more like valuable suggestions rather than accurate predictions .',\n 'We found that phrases are interpreted as suggestions of what to say and how to say it more than the single word displays , which were viewed as predictions of what will be typed . Most participants commented that the system influenced the content of what they were writing .',\n 'This expresses the subtle distinction that was observed in AI as a creative collaborator . AI as a collaborator positions the human and AI as two independent , autonomous agents at equal levels of engagement . Instead of a typo correction service or predictive text service , what you’re really getting are creative suggestions that can take the body of the text in an entirely different direction .',\n 'The design challege is thus how a phrase suggestion service like Smart Compose can make valuable suggestions rather than just accurate predictions .',\n 'Attention based models suffer from poor latency due to keeping track of self attention for all layers of the model .']"
     },
     "metadata": {}
    }
   ],
   "execution_count": null
  },
  {
   "cell_type": "code",
   "metadata": {
    "cell_id": "246a163110c84812be1288547d55d4ab",
    "tags": [],
    "deepnote_to_be_reexecuted": false,
    "source_hash": "d19c31e0",
    "execution_start": 1650526740378,
    "execution_millis": 1,
    "deepnote_cell_type": "code",
    "deepnote_cell_height": 225
   },
   "source": "MIN_TOKENS = 6\nMAX_TOKENS = 512\nfiltered_dataset = []\n\nfor data in normalized_dataset:\n    token_length = len(data.split(\" \"))\n\n    if token_length > MIN_TOKENS and token_length < MAX_TOKENS:\n        filtered_dataset.append(data)",
   "outputs": [],
   "execution_count": null
  },
  {
   "cell_type": "code",
   "metadata": {
    "cell_id": "d061fa61e8e1461fa4d6b93c552d82c0",
    "tags": [],
    "deepnote_to_be_reexecuted": false,
    "source_hash": "3432b5f9",
    "execution_start": 1650526768724,
    "execution_millis": 8,
    "deepnote_cell_type": "code",
    "deepnote_cell_height": 99
   },
   "source": "with open('./data.json', 'w') as f:\n    json.dump(filtered_dataset, f)",
   "outputs": [],
   "execution_count": null
  },
  {
   "cell_type": "code",
   "source": "",
   "metadata": {
    "cell_id": "3139fb58b6ad47df9325e04e8e16b0cc",
    "tags": [],
    "deepnote_cell_type": "code",
    "deepnote_cell_height": 66
   },
   "outputs": [],
   "execution_count": null
  },
  {
   "cell_type": "markdown",
   "source": "<a style='text-decoration:none;line-height:16px;display:flex;color:#5B5B62;padding:10px;justify-content:end;' href='https://deepnote.com?utm_source=created-in-deepnote-cell&projectId=ad10b37e-1254-49b1-9814-3334468ab840' target=\"_blank\">\n<img alt='Created in deepnote.com' style='display:inline;max-height:16px;margin:0px;margin-right:7.5px;' src='data:image/svg+xml;base64,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' > </img>\nCreated in <span style='font-weight:600;margin-left:4px;'>Deepnote</span></a>",
   "metadata": {
    "tags": [],
    "created_in_deepnote_cell": true,
    "deepnote_cell_type": "markdown"
   }
  }
 ],
 "nbformat": 4,
 "nbformat_minor": 2,
 "metadata": {
  "orig_nbformat": 2,
  "deepnote": {},
  "deepnote_notebook_id": "00693324-8ebe-4e99-aef3-34c848e1c32c",
  "deepnote_execution_queue": []
 }
}